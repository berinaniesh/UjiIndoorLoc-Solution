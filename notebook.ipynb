{
 "cells": [
  {
   "cell_type": "markdown",
   "id": "e72d891f-024a-4d3b-b6bf-069c1364a753",
   "metadata": {},
   "source": [
    "# Indoor Localization - Data Preprocessing"
   ]
  },
  {
   "cell_type": "markdown",
   "id": "0bbf1f32-b8cf-4031-9598-9b8e17bb516e",
   "metadata": {},
   "source": [
    "#### Import libraries"
   ]
  },
  {
   "cell_type": "code",
   "execution_count": 1,
   "id": "4fc77712-ba54-4a74-ac37-4af47de17514",
   "metadata": {},
   "outputs": [],
   "source": [
    "import os\n",
    "os.environ['TF_CPP_MIN_LOG_LEVEL'] = '3'\n",
    "import numpy as np\n",
    "import pandas as pd\n",
    "import math\n",
    "from sklearn.model_selection import train_test_split\n",
    "import tensorflow as tf\n",
    "from tensorflow.keras import Sequential\n",
    "from tensorflow.keras import layers"
   ]
  },
  {
   "cell_type": "markdown",
   "id": "12243f82-266a-487b-acba-8ab794f2b424",
   "metadata": {},
   "source": [
    "#### Read data"
   ]
  },
  {
   "cell_type": "code",
   "execution_count": 2,
   "id": "c54b49ee-df7f-4483-9e73-40ea2e49d843",
   "metadata": {},
   "outputs": [],
   "source": [
    "df_train = pd.read_csv(\"data/TrainingData.csv\")\n",
    "df_val = pd.read_csv(\"data/ValidationData.csv\")"
   ]
  },
  {
   "cell_type": "code",
   "execution_count": 3,
   "id": "bb065666-b560-49aa-935c-2a59e15f8b7c",
   "metadata": {},
   "outputs": [
    {
     "data": {
      "text/plain": [
       "19937"
      ]
     },
     "execution_count": 3,
     "metadata": {},
     "output_type": "execute_result"
    }
   ],
   "source": [
    "l1 = len(df_train)\n",
    "l1"
   ]
  },
  {
   "cell_type": "code",
   "execution_count": 4,
   "id": "587fb50c-154c-4493-ac5c-b122daa0bada",
   "metadata": {},
   "outputs": [
    {
     "data": {
      "text/plain": [
       "1111"
      ]
     },
     "execution_count": 4,
     "metadata": {},
     "output_type": "execute_result"
    }
   ],
   "source": [
    "l2 = len(df_val)\n",
    "l2"
   ]
  },
  {
   "cell_type": "code",
   "execution_count": 5,
   "id": "746cf199-4963-4260-a652-ac1276b93ae0",
   "metadata": {},
   "outputs": [
    {
     "data": {
      "text/plain": [
       "0.947215887495249"
      ]
     },
     "execution_count": 5,
     "metadata": {},
     "output_type": "execute_result"
    }
   ],
   "source": [
    "l1/(l1+l2)"
   ]
  },
  {
   "cell_type": "code",
   "execution_count": 6,
   "id": "ceae8017-e968-44cb-be4e-917d83a01188",
   "metadata": {},
   "outputs": [
    {
     "data": {
      "text/plain": [
       "Index(['WAP001', 'WAP002', 'WAP003', 'WAP004', 'WAP005', 'WAP006', 'WAP007',\n",
       "       'WAP008', 'WAP009', 'WAP010',\n",
       "       ...\n",
       "       'WAP520', 'LONGITUDE', 'LATITUDE', 'FLOOR', 'BUILDINGID', 'SPACEID',\n",
       "       'RELATIVEPOSITION', 'USERID', 'PHONEID', 'TIMESTAMP'],\n",
       "      dtype='object', length=529)"
      ]
     },
     "execution_count": 6,
     "metadata": {},
     "output_type": "execute_result"
    }
   ],
   "source": [
    "df_train.columns"
   ]
  },
  {
   "cell_type": "markdown",
   "id": "72389f2a-9e37-4aba-b81a-e7023017bdf1",
   "metadata": {},
   "source": [
    "Since the validation set is 5% of the total data and since `df_train` and `df_val` are identical, we merge both, randomize and get 20% for testing (80-20 split)."
   ]
  },
  {
   "cell_type": "markdown",
   "id": "69cdb035-91ee-4b0a-8d61-ae7e4ef40f6d",
   "metadata": {},
   "source": [
    "### Merge datasets into `df`"
   ]
  },
  {
   "cell_type": "code",
   "execution_count": 7,
   "id": "b99d1922-037a-435c-adb1-3c2b65e67da8",
   "metadata": {},
   "outputs": [],
   "source": [
    "df = pd.concat([df_train, df_val])"
   ]
  },
  {
   "cell_type": "code",
   "execution_count": 8,
   "id": "f155d1af-f1f5-47ad-bedb-80c95bfdf4fd",
   "metadata": {},
   "outputs": [
    {
     "data": {
      "text/plain": [
       "True"
      ]
     },
     "execution_count": 8,
     "metadata": {},
     "output_type": "execute_result"
    }
   ],
   "source": [
    "len(df) == l1 + l2"
   ]
  },
  {
   "cell_type": "markdown",
   "id": "86375ed1-42da-4dda-888f-9d18b7d134b3",
   "metadata": {},
   "source": [
    "### Dropping unncessary columns"
   ]
  },
  {
   "cell_type": "code",
   "execution_count": 9,
   "id": "217873c7-9fa2-4e64-abb4-4fabc0ad699e",
   "metadata": {},
   "outputs": [],
   "source": [
    "# Dropping timestamps (as they play no role in localization)\n",
    "df.drop(columns = [\"SPACEID\", \"RELATIVEPOSITION\", \"USERID\", \"PHONEID\", \"TIMESTAMP\"], inplace=True)"
   ]
  },
  {
   "cell_type": "markdown",
   "id": "3d751600-0b8c-49b7-bd95-099b90c05bde",
   "metadata": {},
   "source": [
    "## Normalization"
   ]
  },
  {
   "cell_type": "code",
   "execution_count": 10,
   "id": "4ae453cb-54b7-4e0e-80da-6a6421e569c3",
   "metadata": {},
   "outputs": [],
   "source": [
    "# Normalize x which is in the range [xmin, xmax] to a range [a,b]\n",
    "def normalize(x, xmin, xmax, a, b):\n",
    "    numerator = x - xmin\n",
    "    denominator = xmax - xmin\n",
    "    multiplier = b - a\n",
    "    ans = (numerator/denominator)*multiplier + a\n",
    "    return ans"
   ]
  },
  {
   "cell_type": "markdown",
   "id": "a269fefd-ee6e-436b-9ceb-47a34e04ebda",
   "metadata": {},
   "source": [
    "### WiFi"
   ]
  },
  {
   "cell_type": "markdown",
   "id": "d5c9136e-7e2b-406e-b76a-d23315b11f93",
   "metadata": {},
   "source": [
    "The WiFi signals are present from (-104, 0) decibel milliWatts (dBm) and if a WiFi signal is not reachable, it is denoted by a 100. So, for normalization, we convert the range of (-104, 0) to (0.25, 1) and make 100 to 0. So, at the end, we get values in the range of [0,1]"
   ]
  },
  {
   "cell_type": "code",
   "execution_count": 11,
   "id": "fdff9fa2-dcf8-4476-a9f9-69916d880db4",
   "metadata": {},
   "outputs": [],
   "source": [
    "sig_min = -104\n",
    "sig_max = 0\n",
    "tar_min = 0.25\n",
    "tar_max = 1.0\n",
    "no_sig = 100\n",
    "def normalize_wifi(num):\n",
    "    ans = 0\n",
    "    num = float(num)\n",
    "    if math.isclose(num, no_sig, rel_tol=1e-3):\n",
    "        return 0\n",
    "    else:\n",
    "        ans = normalize(num, sig_min, sig_max, tar_min, tar_max)\n",
    "        return ans"
   ]
  },
  {
   "cell_type": "markdown",
   "id": "6eb639a2-596d-4250-a1f8-698a1403dac2",
   "metadata": {},
   "source": [
    "Latitude and Longitude values are normalized between 0 and 1."
   ]
  },
  {
   "cell_type": "markdown",
   "id": "3d2f4eb5-dcb6-41ef-bd2d-26942730577b",
   "metadata": {
    "tags": []
   },
   "source": [
    "### Latitude"
   ]
  },
  {
   "cell_type": "code",
   "execution_count": 12,
   "id": "492c6c5b-4b19-4d53-9c05-d2ee82e0cab6",
   "metadata": {},
   "outputs": [],
   "source": [
    "lat_min = 4864745.7450159714\n",
    "lat_max = 4865017.3646842018\n",
    "tarmin = 0\n",
    "tarmax = 1\n",
    "def normalize_lat(num):\n",
    "    num = float(num)\n",
    "    ans = normalize(num, lat_min, lat_max, tarmin, tarmax)\n",
    "    return ans"
   ]
  },
  {
   "cell_type": "markdown",
   "id": "c432697e-41c2-417b-9c8e-edfe21c70d63",
   "metadata": {},
   "source": [
    "### Longitude"
   ]
  },
  {
   "cell_type": "code",
   "execution_count": 13,
   "id": "c7f49c19-4fcf-4859-a186-ab9bf876fb69",
   "metadata": {},
   "outputs": [],
   "source": [
    "long_min = -7695.9387549299299000\n",
    "long_max = -7299.786516730871000\n",
    "tarmin = 0\n",
    "tarmax = 1\n",
    "def normalize_long(num):\n",
    "    num = float(num)\n",
    "    ans = normalize(num, long_min, long_max, tarmin, tarmax)\n",
    "    return ans"
   ]
  },
  {
   "cell_type": "code",
   "execution_count": 14,
   "id": "b4661ce3-a425-48ee-a65a-7c28febd0e89",
   "metadata": {},
   "outputs": [],
   "source": [
    "wifi_cells = df.columns[:519] # 520 wifi signals, index started at 1"
   ]
  },
  {
   "cell_type": "code",
   "execution_count": 15,
   "id": "e9bba0e4-e74a-4667-b058-f9815488f5f9",
   "metadata": {},
   "outputs": [],
   "source": [
    "# Normalize WiFi values\n",
    "for i in wifi_cells:\n",
    "    df[i] = df[i].apply(normalize_wifi)"
   ]
  },
  {
   "cell_type": "code",
   "execution_count": 16,
   "id": "b0678b88-aa2e-40a8-b3c7-99e7c64ec840",
   "metadata": {},
   "outputs": [],
   "source": [
    "# Normalize latitudes and longitudes\n",
    "df[\"LATITUDE\"] = df[\"LATITUDE\"].apply(normalize_lat)\n",
    "df[\"LONGITUDE\"] = df[\"LONGITUDE\"].apply(normalize_long)"
   ]
  },
  {
   "cell_type": "markdown",
   "id": "066d4e6e-6fad-41dd-9897-f4f0e9e8104c",
   "metadata": {},
   "source": [
    "### Separate X an Y values"
   ]
  },
  {
   "cell_type": "code",
   "execution_count": 17,
   "id": "77c20850-ef3d-4a66-a4cd-1e77568ed48d",
   "metadata": {},
   "outputs": [],
   "source": [
    "x = df[wifi_cells]"
   ]
  },
  {
   "cell_type": "code",
   "execution_count": 18,
   "id": "8a7b3a4a-54d9-47d7-911a-c2c95e61aea7",
   "metadata": {},
   "outputs": [],
   "source": [
    "y = df[[\"LATITUDE\", \"LONGITUDE\", \"BUILDINGID\", \"FLOOR\"]]"
   ]
  },
  {
   "cell_type": "markdown",
   "id": "6015618a-1574-423a-ae91-324c763a19d4",
   "metadata": {
    "tags": []
   },
   "source": [
    "### Test Train Split"
   ]
  },
  {
   "cell_type": "code",
   "execution_count": 19,
   "id": "8be75042-f836-4840-9e64-4b48acc298fc",
   "metadata": {},
   "outputs": [],
   "source": [
    "x_train, x_test, y_train, y_test = train_test_split(x, y, random_state=42, test_size=0.15)"
   ]
  },
  {
   "cell_type": "markdown",
   "id": "767f0964-da3e-4d79-bd89-eb14fee9c1ef",
   "metadata": {},
   "source": [
    "### Building the ML model"
   ]
  },
  {
   "cell_type": "code",
   "execution_count": 39,
   "id": "2b6fcec8-9099-4fb1-8f98-0d58a2ecabe5",
   "metadata": {},
   "outputs": [],
   "source": [
    "model = Sequential()\n",
    "model.add(layers.Dense(519, activation=\"relu\"))\n",
    "model.add(layers.Dense(300, activation=\"relu\"))\n",
    "model.add(layers.Dense(100, activation=\"relu\"))\n",
    "model.add(layers.Dense(4, activation=\"relu\"))\n",
    "model.compile(optimizer='adam',\n",
    "                loss=\"mse\", metrics=['accuracy'])"
   ]
  },
  {
   "cell_type": "code",
   "execution_count": 40,
   "id": "868c5e7e-68db-4165-8f31-00060510b9f9",
   "metadata": {},
   "outputs": [],
   "source": [
    "X = tf.convert_to_tensor(x)\n",
    "Y = tf.convert_to_tensor(y)"
   ]
  },
  {
   "cell_type": "markdown",
   "id": "11f62ae4-92b5-495c-98fc-8561a3546a45",
   "metadata": {},
   "source": [
    "### Training the model"
   ]
  },
  {
   "cell_type": "code",
   "execution_count": 41,
   "id": "c2704e28-1478-472c-9aef-9a114d2e6473",
   "metadata": {},
   "outputs": [
    {
     "name": "stdout",
     "output_type": "stream",
     "text": [
      "Epoch 1/5\n",
      "560/560 [==============================] - 4s 6ms/step - loss: 0.0535 - accuracy: 0.8786 - val_loss: 0.0534 - val_accuracy: 0.9405\n",
      "Epoch 2/5\n",
      "560/560 [==============================] - 3s 6ms/step - loss: 0.0106 - accuracy: 0.9016 - val_loss: 0.0660 - val_accuracy: 0.9310\n",
      "Epoch 3/5\n",
      "560/560 [==============================] - 3s 6ms/step - loss: 0.0089 - accuracy: 0.9013 - val_loss: 0.0496 - val_accuracy: 0.9446\n",
      "Epoch 4/5\n",
      "560/560 [==============================] - 3s 6ms/step - loss: 0.0075 - accuracy: 0.9066 - val_loss: 0.0488 - val_accuracy: 0.9522\n",
      "Epoch 5/5\n",
      "560/560 [==============================] - 3s 6ms/step - loss: 0.0061 - accuracy: 0.9054 - val_loss: 0.0414 - val_accuracy: 0.9557\n"
     ]
    },
    {
     "data": {
      "text/plain": [
       "<keras.callbacks.History at 0x7f4ad02299f0>"
      ]
     },
     "execution_count": 41,
     "metadata": {},
     "output_type": "execute_result"
    }
   ],
   "source": [
    "model.fit(x=X, y=Y, epochs=5, validation_split=0.15, shuffle=True)"
   ]
  },
  {
   "cell_type": "markdown",
   "id": "263422af-3259-4aae-90c0-740f5d7357a6",
   "metadata": {},
   "source": [
    "### Saving the model"
   ]
  },
  {
   "cell_type": "code",
   "execution_count": 42,
   "id": "c0054a98-90e0-4f27-bfa8-7fbbfd8bec93",
   "metadata": {},
   "outputs": [
    {
     "name": "stderr",
     "output_type": "stream",
     "text": [
      "WARNING:absl:Found untraced functions such as _update_step_xla while saving (showing 1 of 1). These functions will not be directly callable after loading.\n"
     ]
    },
    {
     "name": "stdout",
     "output_type": "stream",
     "text": [
      "INFO:tensorflow:Assets written to: ml_model/assets\n"
     ]
    },
    {
     "name": "stderr",
     "output_type": "stream",
     "text": [
      "INFO:tensorflow:Assets written to: ml_model/assets\n"
     ]
    }
   ],
   "source": [
    "model.save(\"ml_model\")"
   ]
  },
  {
   "cell_type": "code",
   "execution_count": 43,
   "id": "dad87662-fb0e-46a3-8f0c-1b774de2e569",
   "metadata": {},
   "outputs": [
    {
     "name": "stdout",
     "output_type": "stream",
     "text": [
      "Model: \"sequential_3\"\n",
      "_________________________________________________________________\n",
      " Layer (type)                Output Shape              Param #   \n",
      "=================================================================\n",
      " dense_6 (Dense)             (None, 519)               269880    \n",
      "                                                                 \n",
      " dense_7 (Dense)             (None, 300)               156000    \n",
      "                                                                 \n",
      " dense_8 (Dense)             (None, 100)               30100     \n",
      "                                                                 \n",
      " dense_9 (Dense)             (None, 4)                 404       \n",
      "                                                                 \n",
      "=================================================================\n",
      "Total params: 456,384\n",
      "Trainable params: 456,384\n",
      "Non-trainable params: 0\n",
      "_________________________________________________________________\n"
     ]
    }
   ],
   "source": [
    "model.summary()"
   ]
  },
  {
   "cell_type": "code",
   "execution_count": 59,
   "id": "1f0a1b85-f1c0-4c29-9526-2395abaef72f",
   "metadata": {},
   "outputs": [
    {
     "data": {
      "text/plain": [
       "WAP001    0.0\n",
       "WAP002    0.0\n",
       "WAP003    0.0\n",
       "WAP004    0.0\n",
       "WAP005    0.0\n",
       "         ... \n",
       "WAP515    0.0\n",
       "WAP516    0.0\n",
       "WAP517    0.0\n",
       "WAP518    0.0\n",
       "WAP519    0.0\n",
       "Name: 0, Length: 519, dtype: float64"
      ]
     },
     "execution_count": 59,
     "metadata": {},
     "output_type": "execute_result"
    }
   ],
   "source": [
    "x.iloc[0]"
   ]
  },
  {
   "cell_type": "code",
   "execution_count": 60,
   "id": "a625eb40-abc3-4998-ae04-552e93ac37de",
   "metadata": {},
   "outputs": [
    {
     "data": {
      "text/plain": [
       "LATITUDE      0.644405\n",
       "LONGITUDE     0.390442\n",
       "BUILDINGID    1.000000\n",
       "FLOOR         2.000000\n",
       "Name: 0, dtype: float64"
      ]
     },
     "execution_count": 60,
     "metadata": {},
     "output_type": "execute_result"
    }
   ],
   "source": [
    "y.iloc[0]"
   ]
  },
  {
   "cell_type": "code",
   "execution_count": 61,
   "id": "3a2854af-de46-4b96-961c-e772e5baf715",
   "metadata": {},
   "outputs": [],
   "source": [
    "to_pred = np.asarray(x.iloc[0])"
   ]
  },
  {
   "cell_type": "code",
   "execution_count": 63,
   "id": "f9e42995-f49c-43a2-9e4a-143df2b6f33c",
   "metadata": {},
   "outputs": [],
   "source": [
    "to_pred = to_pred.reshape(1,519)"
   ]
  },
  {
   "cell_type": "code",
   "execution_count": 65,
   "id": "07cb4956-6748-4ade-8fe8-1e3d532f8b47",
   "metadata": {},
   "outputs": [
    {
     "name": "stdout",
     "output_type": "stream",
     "text": [
      "1/1 [==============================] - 0s 18ms/step\n"
     ]
    },
    {
     "data": {
      "text/plain": [
       "array([[0.70963645, 0.38856775, 0.9717524 , 1.9604622 ]], dtype=float32)"
      ]
     },
     "execution_count": 65,
     "metadata": {},
     "output_type": "execute_result"
    }
   ],
   "source": [
    "model.predict(to_pred)"
   ]
  }
 ],
 "metadata": {
  "kernelspec": {
   "display_name": "Python 3 (ipykernel)",
   "language": "python",
   "name": "python3"
  },
  "language_info": {
   "codemirror_mode": {
    "name": "ipython",
    "version": 3
   },
   "file_extension": ".py",
   "mimetype": "text/x-python",
   "name": "python",
   "nbconvert_exporter": "python",
   "pygments_lexer": "ipython3",
   "version": "3.10.9"
  }
 },
 "nbformat": 4,
 "nbformat_minor": 5
}
